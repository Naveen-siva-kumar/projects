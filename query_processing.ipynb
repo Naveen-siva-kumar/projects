{
  "nbformat": 4,
  "nbformat_minor": 0,
  "metadata": {
    "colab": {
      "provenance": [],
      "collapsed_sections": [
        "ifBgakxk0S68"
      ]
    },
    "kernelspec": {
      "name": "python3",
      "display_name": "Python 3"
    },
    "language_info": {
      "name": "python"
    }
  },
  "cells": [
    {
      "cell_type": "code",
      "execution_count": null,
      "metadata": {
        "id": "DJKLr3HRb08i"
      },
      "outputs": [],
      "source": [
        "#Naveen"
      ]
    },
    {
      "cell_type": "markdown",
      "source": [
        "#start\n"
      ],
      "metadata": {
        "id": "qwNnN7-AJQy1"
      }
    },
    {
      "cell_type": "code",
      "source": [
        "import csv\n",
        "#file1 = open(\"/home/dmacs-7/Documents/Mtechsem2/203/st/test.csv\")\n",
        "file1 = open(\"/content/temp.csv\")\n",
        "data = csv.reader(file1)\n",
        "header = next(data)\n",
        "print(header)\n",
        "rows = []\n",
        "for row in data:\n",
        "    rows.append(row)\n",
        "print(rows)\n",
        "for j in rows:\n",
        "  print(j[1],j[2])"
      ],
      "metadata": {
        "colab": {
          "base_uri": "https://localhost:8080/"
        },
        "id": "4EPSb7pkJS0a",
        "outputId": "5dd1ca49-0402-4453-f43a-ed5ed605df80"
      },
      "execution_count": null,
      "outputs": [
        {
          "output_type": "stream",
          "name": "stdout",
          "text": [
            "['name', 'regdno', 'phno', 'a']\n",
            "[['naveen', '21551', '1422', '0'], ['nandan', '21552', '1231', '0'], ['veeerendra', '21553', '3231', '0'], ['suvam', '21554', '1234', '0'], ['suraj', '21555', '4212', '0'], ['shubank', '21556', '1232', '0'], ['nitin', '21557', '2341', '0'], ['mukesh', '21558', '2342', '0'], ['ram', '21569', '823742', '0']]\n",
            "21551 1422\n",
            "21552 1231\n",
            "21553 3231\n",
            "21554 1234\n",
            "21555 4212\n",
            "21556 1232\n",
            "21557 2341\n",
            "21558 2342\n",
            "21569 823742\n"
          ]
        }
      ]
    },
    {
      "cell_type": "code",
      "source": [
        "#in select * or name of the attributes currently only small letters need to be entered even for header\n",
        "#follow up can use list((map(lambda x: x.lower(), s))) to make header as what i needed\n",
        "\n",
        "#from have to enter filenames (need not give .csv extension) and needed natural_join or cartisian_join as single word not as two\n",
        "#from can handle any number of joins in any order\n",
        "\n",
        "#where can handle one statement with =,!=,<,>,>=,<= operations on attributes somemore using AND ,OR yet to be done.\n",
        "\n",
        "#orderby can be done on one atttribute and in ascending order\n",
        "\n",
        "#dealing with materialized views.So writing down all the records as of when we know that they are part of it.\n",
        "\n",
        "#have display function,which takes file.csv as input and reads from the file and displays with header in cyan colour\n",
        "#and remaining rows as adjusted to 15 characters each word(appended with spaces).\n",
        "\n",
        "#can use a class with a little change in the code,here i am dealing with file names\n",
        "#and then opening the files and reading the header and rows \n",
        "#instead i can have a class with class variables as file name,header and rows.\n",
        "#if its done the opening of file reading will be redundant \n",
        "#but this opening and closing happening in every function if i implement this in from_fun,i will be saving the file names\n",
        "#that i need to open.So once and for all i can read the header and rows in that and store it as class variables.\n"
      ],
      "metadata": {
        "id": "_-LOWkObPuTq"
      },
      "execution_count": null,
      "outputs": []
    },
    {
      "cell_type": "code",
      "source": [
        "#all the functions below can be part of Query class and directly invoke all the functions and \n",
        "#the input can be a class varible that reads from user"
      ],
      "metadata": {
        "id": "gtGGktnRQLy5"
      },
      "execution_count": null,
      "outputs": []
    },
    {
      "cell_type": "code",
      "source": [
        "#the use case of functions are written as comment in first line of function cell"
      ],
      "metadata": {
        "id": "5Qloqaf9QgFQ"
      },
      "execution_count": null,
      "outputs": []
    },
    {
      "cell_type": "markdown",
      "source": [
        "#loading libraries"
      ],
      "metadata": {
        "id": "6Zfe3BrbCaJ-"
      }
    },
    {
      "cell_type": "code",
      "source": [
        "import sys\n",
        "import pandas as pd\n",
        "import numpy as np\n",
        "from operator import itemgetter\n",
        "import csv"
      ],
      "metadata": {
        "id": "gEivBDFfJi2t"
      },
      "execution_count": null,
      "outputs": []
    },
    {
      "cell_type": "code",
      "source": [
        "class color:\n",
        "   PURPLE = '\\033[95m'\n",
        "   CYAN = '\\033[96m'\n",
        "   DARKCYAN = '\\033[36m'\n",
        "   BLUE = '\\033[94m'\n",
        "   GREEN = '\\033[92m'\n",
        "   YELLOW = '\\033[93m'\n",
        "   RED = '\\033[91m'\n",
        "   BOLD = '\\033[1m'\n",
        "   UNDERLINE = '\\033[4m'\n",
        "   END = '\\033[0m'\n",
        "\n",
        "#this is to print in colours"
      ],
      "metadata": {
        "id": "51sSO69Xr7kB"
      },
      "execution_count": null,
      "outputs": []
    },
    {
      "cell_type": "code",
      "source": [
        "#to remove few items which are not needed in the list\n",
        "def remove_items(test_list, item):\n",
        "    res = [i for i in test_list if i != item]\n",
        "    return res"
      ],
      "metadata": {
        "id": "LmJr1eH5Jo57"
      },
      "execution_count": null,
      "outputs": []
    },
    {
      "cell_type": "code",
      "source": [
        "#searching for existence of an element in the list\n",
        "def search(list, element):\n",
        "    for i in range(len(list)):\n",
        "        if list[i] == element:\n",
        "            return True\n",
        "    return False"
      ],
      "metadata": {
        "id": "b3UuzwlSY64N"
      },
      "execution_count": null,
      "outputs": []
    },
    {
      "cell_type": "code",
      "source": [
        "#searching for the attributes existence in the file's header\n",
        "\n",
        "def search_attributes(sl,file_name):\n",
        "  path = \"/content/\"+file_name\n",
        "  #print(\"path is : \"+path)\n",
        "  file1 = open(path)\n",
        "  data = csv.reader(file1)\n",
        "  header = next(data)\n",
        "  header = list((map(lambda x: x.lower(), header)))\n",
        "  #print(header)\n",
        "  file1.close()\n",
        "  attrs_ = [None]*len(sl)\n",
        "\n",
        "  if (len(sl)==1) and sl[0] == \"*\":\n",
        "    return 1\n",
        "  for i in range(len(sl)):\n",
        "    attrs_[i] = search(header,sl[i])\n",
        "    if(attrs_[i]==False):\n",
        "      \n",
        "      return 0 \n",
        "  #file1.close()\n",
        "  return 1"
      ],
      "metadata": {
        "id": "-61LRQjfReLo"
      },
      "execution_count": null,
      "outputs": []
    },
    {
      "cell_type": "code",
      "source": [
        "#doing cartesian join , if there is any common attributes then it does natural join \n",
        "#opens files and do nested loop join.\n",
        "#and writes back into a file\n",
        "\n",
        "\n",
        "def cartesian_join_fun(tab1,tab2):\n",
        "  path1 = \"/content/\"+tab1\n",
        "  path2 = \"/content/\"+tab2\n",
        "  \n",
        "  #print(\"path is : \",path1,path2)\n",
        "  file1 = open(path1)\n",
        "  file2 = open(path2)\n",
        "  data1 = csv.reader(file1)\n",
        "  header1 = next(data1)\n",
        "  header1 = list((map(lambda x: x.lower(), header1)))\n",
        "  data2 = csv.reader(file2)\n",
        "  header2 = next(data2)\n",
        "  header2 = list((map(lambda x: x.lower(), header2)))\n",
        "  lis1,lis2= common_attr_indices(header1,header2)\n",
        "  if(len(lis1)!=0 and len(lis2)!=0):\n",
        "    return natural_join_fun(tab1,tab2)\n",
        "  new_file_name = tab1+\"cart_join\"+tab2\n",
        "  with open(new_file_name,\"w+\") as file3:\n",
        "     writer = csv.writer(file3)\n",
        "     #rows = []\n",
        "     for i in range(len(header1)):\n",
        "          file3.write(header1[i])\n",
        "          if(i!=len(header1)):\n",
        "            file3.write(\",\")\n",
        "     for i in range(len(header2)):\n",
        "          file3.write(header2[i])\n",
        "          if(i!=len(header2)-1):\n",
        "            file3.write(\",\")       \n",
        "     file3.write(\"\\n\")\n",
        "     for row_a in data1:\n",
        "       \n",
        "       file2.close()\n",
        "       file2 = open(path2)\n",
        "       data2 = csv.reader(file2)\n",
        "       header2 = next(data2)\n",
        "       for row_b in data2:\n",
        "         \n",
        "         for i in range(len(row_a)):\n",
        "          file3.write(row_a[i])\n",
        "          if(i!=len(row_a)):\n",
        "            file3.write(\",\")\n",
        "         for j in range(len(row_b)):\n",
        "          \n",
        "          file3.write(row_b[j])\n",
        "          if(j!=len(row_b)-1):\n",
        "            file3.write(\",\")\n",
        "          if(j==len(row_b)-1):\n",
        "             file3.write(\"\\n\")\n",
        "\n",
        "  file1.close()\n",
        "  file2.close()\n",
        "  return new_file_name"
      ],
      "metadata": {
        "id": "AzilafEtisKg"
      },
      "execution_count": null,
      "outputs": []
    },
    {
      "cell_type": "code",
      "source": [
        "#removing the duplicates for projection in select \n",
        "\n",
        "def remove_dup(tab1):\n",
        "  file1 = open(tab1)\n",
        "  data = csv.reader(file1)\n",
        "  header = next(data)\n",
        "  header = list((map(lambda x: x.lower(), header)))\n",
        "  rows = []\n",
        "  for row in data:\n",
        "    if(not row in rows):\n",
        "      rows.append(row)\n",
        "\n",
        "  if len(rows) == 0:\n",
        "    header = []\n",
        "  return header,rows"
      ],
      "metadata": {
        "id": "qwGJ6Wz-GLdt"
      },
      "execution_count": null,
      "outputs": []
    },
    {
      "cell_type": "code",
      "source": [
        "#searching for common attribue's indices\n",
        "\n",
        "def common_attr_indices(header1,header2):\n",
        "  index1 = []\n",
        "  index2 = []\n",
        "  #common = [False]*len(header1)\n",
        "  for i in range(len(header1)):\n",
        "      if(header1[i] in header2):\n",
        "        index1.append(header1.index(header1[i]))\n",
        "        index2.append(header2.index(header1[i]))\n",
        "  #pass\n",
        "  return index1,index2"
      ],
      "metadata": {
        "id": "v0yKd70cF6YV"
      },
      "execution_count": null,
      "outputs": []
    },
    {
      "cell_type": "code",
      "source": [
        "#doing natural join opening file finding common atttrinutes,comapring them if they are same then write into file\n",
        "\n",
        "def natural_join_fun(tab1,tab2):\n",
        "  \n",
        "  path1 = \"/content/\"+tab1\n",
        "  path2 = \"/content/\"+tab2\n",
        "  \n",
        "  #print(\"path is : \",path1,path2)\n",
        "  file1 = open(path1)\n",
        "  file2 = open(path2)\n",
        "  data1 = csv.reader(file1)\n",
        "  header1 = next(data1)\n",
        "  header1 = list((map(lambda x: x.lower(), header1)))\n",
        "  data2 = csv.reader(file2)\n",
        "  header2 = next(data2)\n",
        "  header2 = list((map(lambda x: x.lower(), header2)))\n",
        "  rows1 = []\n",
        "  for row in data1:\n",
        "    rows1.append(row)\n",
        "  rows2 = []\n",
        "  for row in data2:\n",
        "    rows2.append(row)\n",
        "  file1.close()\n",
        "  new_file_name = tab1+\"nat_join\"+tab2\n",
        "  index_lis1,index_lis2 =common_attr_indices(header1,header2)\n",
        "  #print(\"THIS IS COMMON ATTRIBUTE INDICES\")\n",
        "  #print(index_lis1,index_lis2)\n",
        "  index_of_file1 = []\n",
        "  index_of_file2 = []\n",
        "  with open(new_file_name,\"w+\") as file3:\n",
        "    writer = csv.writer(file3)\n",
        "    \n",
        "    for i in range(len(header1)):\n",
        "          file3.write(header1[i])\n",
        "          if(i!=len(header1)):\n",
        "            file3.write(\",\")\n",
        "    for i in range(len(header2)):\n",
        "          if(not i in index_lis2):\n",
        "            file3.write(header2[i])\n",
        "            if(i!=len(header2)-1):\n",
        "              file3.write(\",\")       \n",
        "    file3.write(\"\\n\")\n",
        "    temp_row_for_file1 = \"\"\n",
        "    temp_row_for_file2 = \"\"\n",
        "    \n",
        "    temp_index1 = 0\n",
        "    temp_index2 = 0\n",
        "\n",
        "    for dataitem1 in rows1:\n",
        "      #prepare search element1\n",
        "      \n",
        "      temp_row_for_file1 = \"\"\n",
        "      for i in range(len(index_lis1)):\n",
        "        temp_row_for_file1 += dataitem1[i]\n",
        "      #print(\"temp_row_for_file1\",temp_row_for_file1)\n",
        "      for dataitem2 in rows2:\n",
        "        #prepare for search element2\n",
        "        temp_row_for_file2 = \"\"\n",
        "        for j in range(len(index_lis2)):\n",
        "          temp_row_for_file2 += dataitem2[j]\n",
        "        #print(\"temp_row_for_file2\",temp_row_for_file2)\n",
        "        if (temp_row_for_file2 == temp_row_for_file1):\n",
        "        \n",
        "          for temp_index1 in range(len(header1)):\n",
        "            file3.write(dataitem1[temp_index1])\n",
        "            \n",
        "            if temp_index1 != (len(header1)):\n",
        "              file3.write(\",\")\n",
        "          for temp_index2 in range(len(header2)):\n",
        "            if not temp_index2 in index_lis2:\n",
        "              file3.write(dataitem2[temp_index2])\n",
        "              if temp_index2 != (len(header2)-1) :\n",
        "                file3.write(\",\")\n",
        "              else:\n",
        "                file3.write(\"\\n\")\n",
        "   \n",
        "  file1.close()\n",
        "  file2.close()\n",
        "  return new_file_name"
      ],
      "metadata": {
        "id": "0lLWgboMFjps"
      },
      "execution_count": null,
      "outputs": []
    },
    {
      "cell_type": "code",
      "source": [
        "#order by  an attribute(1 only and ascending order only)\n",
        "\n",
        "def orderby_fun(orderby_list,tab1):\n",
        "  if(len(orderby_list)==0):\n",
        "    return tab1\n",
        "  \n",
        "  if len(orderby_list )==1:\n",
        "    new_file_name = \"ordered_\"+tab1\n",
        "    file1 = open(tab1)\n",
        "  \n",
        "    data1 = csv.reader(file1)\n",
        "    header1 = next(data1)\n",
        "  \n",
        "    rows1 = []\n",
        "    for row in data1:\n",
        "      rows1.append(row)\n",
        "  \n",
        "    file1.close()\n",
        "\n",
        "    index = -1\n",
        "    \n",
        "    if(orderby_list[0] in header1):\n",
        "        index = header1.index(orderby_list[0])\n",
        "    \n",
        "    if(index == -1):\n",
        "      print(\"No such attibute exists in orderby clause thats entered in query\")\n",
        "      return \"where??\"\n",
        "    if(index!=-1):\n",
        "      rows = sorted(rows1,key=lambda x:x[index])\n",
        "      with open(new_file_name,\"w+\") as file3:\n",
        "        for i in range(len(header1)):\n",
        "          #if(not i in index_lis2):\n",
        "            file3.write(header1[i])\n",
        "            if(i!=len(header1)-1):\n",
        "              file3.write(\",\")       \n",
        "        file3.write(\"\\n\")\n",
        "        \n",
        "        for i in range(len(rows)):\n",
        "          for j in range(len(rows[i])):\n",
        "            file3.write(rows[i][j])\n",
        "            if(j!=len(rows[i])-1):\n",
        "              file3.write(\",\")\n",
        "          file3.write(\"\\n\")\n",
        "\n",
        "       \n",
        "  #it can do only for 1 attribute but not for many attributes\n",
        "  return new_file_name"
      ],
      "metadata": {
        "id": "eYArXb7VGJQm"
      },
      "execution_count": null,
      "outputs": []
    },
    {
      "cell_type": "code",
      "source": [
        "#checking if the record satisfying the where condition\n",
        "\n",
        "def op(str1,str2,ops):\n",
        "  if ops[0] == 1:\n",
        "    #print(\"equal\")\n",
        "    return str1==str2\n",
        "  elif ops[1] == 1:\n",
        "    #print(\"notequal\")\n",
        "    return str1!=str2\n",
        "  elif ops[2] == 1:\n",
        "    #print(\"greater\")\n",
        "    return str1>str2\n",
        "  elif ops[3] == 1:\n",
        "    #print(\"greaterequal\")\n",
        "    return str1>=str2\n",
        "  elif ops[4] == 1:\n",
        "    #print(\"less\")\n",
        "    return str1<str2\n",
        "  elif ops[5] == 1:\n",
        "    #print(\"lessequal\")\n",
        "    return str1<=str2"
      ],
      "metadata": {
        "id": "UlC-ZQN-nYu0"
      },
      "execution_count": null,
      "outputs": []
    },
    {
      "cell_type": "code",
      "source": [
        "#where clause function first search for the attribute and if exists then only move forward\n",
        "#with yes_exist flag , then get the index of the attribute from the header of the file\n",
        "#and take only that value of the record and comapre with the given value.\n",
        "#and if exists then write into a file\n",
        "\n",
        "def where_fun(where_list,file_name):\n",
        "  if(len(where_list)==0):\n",
        "    return file_name\n",
        "  \n",
        "  file1 = open(file_name)\n",
        "    \n",
        "  data1 = csv.reader(file1)\n",
        "  header1 = next(data1)\n",
        "    \n",
        "  rows = []\n",
        "  for row in data1:\n",
        "      rows.append(row)\n",
        "    \n",
        "  file1.close()\n",
        "  yes_exist = 0\n",
        "  \n",
        "  if where_list[0] in header1:\n",
        "    #print(\"in where fun\")\n",
        "    #print(\"where_list[0]\",where_list[0])\n",
        "    #print(\"header1\",header1)\n",
        "    yes_exist = 1\n",
        "    index_lis2 = header1.index(where_list[0])\n",
        "  elif not (where_list[0] in header1):\n",
        "    yes_exist = 0\n",
        "    print(\"attribute doesn't exist in the file header Don't expect any result\")\n",
        "    return \"where??\"\n",
        "  #yes_exist = search_attributes(where_list[0],file_name)\n",
        "  operations = [-1]*6\n",
        "  operations_list = [\"equal\",\"notequal\",\"greater_than\",\"greater_than_or_equal\",\"less_than\",\"less_than_or_equal\"]\n",
        "  \n",
        "  if(yes_exist == 1):\n",
        "    sym = where_list[1]\n",
        "    if sym == \"=\":\n",
        "      operations[0] = 1\n",
        "    elif sym == \"!=\":\n",
        "      operations[1] = 1\n",
        "    elif sym == \">\":\n",
        "      operations[2] = 1\n",
        "    elif sym == \">=\":\n",
        "      operations[3] = 1\n",
        "    elif sym == \"<\":\n",
        "      operations[4] = 1\n",
        "    elif sym == \"<=\":\n",
        "      operations[5] = 1 \n",
        "    else:\n",
        "      print(\"Invalid symbol in where clause\")\n",
        "      return \n",
        "    \n",
        "    #index_lis1,index_lis2 = common_attr_indices(where_list[0],header1)\n",
        "    with open(\"output_where.csv\",\"w+\") as file3:\n",
        "      #writer = csv.writer(file3)\n",
        "    \n",
        "      for i in range(len(header1)):\n",
        "          file3.write(header1[i])\n",
        "          if(i!=len(header1)-1):\n",
        "            file3.write(\",\")\n",
        "      file3.write(\"\\n\")\n",
        "      for row_a in rows:\n",
        "        if(op(row_a[index_lis2],where_list[2],operations)):\n",
        "          #start writing the row into new file\n",
        "          for temp_index1 in range(len(header1)):\n",
        "            file3.write(row_a[temp_index1])\n",
        "            \n",
        "            if temp_index1 != (len(header1)-1):\n",
        "              file3.write(\",\")\n",
        "            else:\n",
        "              file3.write(\"\\n\")\n",
        "          \n",
        "    return \"output_where.csv\"\n",
        "  else:\n",
        "    print(\"The attribute mentioned in where clause doesn't exist in table\")\n",
        "    return  \n",
        "  \n",
        "  return \"output_where.csv\"\n"
      ],
      "metadata": {
        "id": "H_V3m3Dxf0La"
      },
      "execution_count": null,
      "outputs": []
    },
    {
      "cell_type": "code",
      "source": [
        "#displaying the file\n",
        "#header is in cyan colour and adjusted for 15 characters (appended with spaces if it doesn't have 15 characters)\n",
        "\n",
        "def display(file_name):\n",
        "  file1 = open(file_name)\n",
        "  data = csv.reader(file1)\n",
        "  header = next(data)\n",
        "  #print(header)\n",
        "  rows = []\n",
        "  for row in data:\n",
        "    rows.append(row)\n",
        "  file1.close()\n",
        "  for i in range(len(header)):\n",
        "\n",
        "    #DARKCYAN\n",
        "    #print(color.CYAN + header[i].ljust(15) + color.END,end = '     ')\n",
        "    print(color.CYAN + header[i].ljust(15) + color.END,end = \"    \")\n",
        "\n",
        "    \n",
        "    #print(header[i],end = \" \")\n",
        "\n",
        "  print()\n",
        "  for i in range(len(rows)):\n",
        "    for j in range(len(rows[i])):\n",
        "      print(rows[i][j].ljust(15),end = \"    \")\n",
        "      #print(rows[i][j].ljust(15),end = \"      \")\n",
        "    print()\n",
        "  #out = pd.DataFrame(rows)\n",
        "  #out.columns = header\n",
        "  #print(out)"
      ],
      "metadata": {
        "id": "at8mYrGXFos5"
      },
      "execution_count": null,
      "outputs": []
    },
    {
      "cell_type": "code",
      "source": [
        "#displaying file given header and rows of the file not the file name\n",
        "\n",
        "def display_output(header,rows):\n",
        "\n",
        "  for i in range(len(header)):\n",
        "\n",
        "    print(color.CYAN + header[i].ljust(15) + color.END,end = \"    \")\n",
        "\n",
        "\n",
        "  print()\n",
        "  for i in range(len(rows)):\n",
        "    for j in range(len(rows[i])):\n",
        "      print(rows[i][j].ljust(15),end = \"    \")\n",
        "    print()\n"
      ],
      "metadata": {
        "id": "5K4U-Xk5rSLS"
      },
      "execution_count": null,
      "outputs": []
    },
    {
      "cell_type": "code",
      "source": [
        "# #the select clause where i am selecting only the attributes that are given in command\n",
        "# #This is old version of select now select2 is updated for serving orderby and few bugs\n",
        "\n",
        "\n",
        "\n",
        "# def select(sl,file_name):\n",
        "#   path1 = \"/content/\"+file_name\n",
        "  \n",
        "#   #print(\"path is : \",path1)\n",
        "#   file1 = open(path1)\n",
        "  \n",
        "#   data1 = csv.reader(file1)\n",
        "#   header1 = next(data1)\n",
        "#   #print(\"I am in select printing header\")\n",
        "#   #print(str(header1))\n",
        "#   index_list= []#[None]*len(sl)\n",
        "#   if(sl[0]==\"*\"):\n",
        "#     #index_list = [None]*len(header1)\n",
        "#     for i in range(len(header1)):\n",
        "#       index_list.append(i)# = i#header1[i]#header1.index(sl[i])\n",
        "#     sl = []\n",
        "#     for i in range(len(header1)):\n",
        "#       sl.append(header1[i])\n",
        "#   else:\n",
        "#     for i in range(len(sl)):\n",
        "#       index_list.append(header1.index(sl[i]))\n",
        "  \n",
        "#   with open(\"select_output.csv\",\"w+\") as outfile:\n",
        "#       for i in range(len(sl)):\n",
        "#           outfile.write(sl[i])\n",
        "#           if(i!=len(sl)-1):\n",
        "#             outfile.write(\",\") \n",
        "#       outfile.write(\"\\n\")\n",
        "#       for row_a in data1:\n",
        "#         print(\"row_a in select--\",row_a)\n",
        "#         for i in range(len(index_list)):\n",
        "#           print(\"row_a[index_list[i]]---\",row_a[index_list[i]])\n",
        "#           outfile.write(row_a[index_list[i]])#rows.append(row)\n",
        "#           if(i!=len(index_list)-1):\n",
        "#             outfile.write(\",\")\n",
        "#           if(i==len(index_list)-1):\n",
        "#             outfile.write(\"\\n\")\n",
        "#   #pass\n",
        "#   file1.close()\n",
        "#   header,select_out = remove_dup(\"select_output.csv\")\n",
        "#   return header,select_out"
      ],
      "metadata": {
        "id": "9HgDiTqRgy5F"
      },
      "execution_count": null,
      "outputs": []
    },
    {
      "cell_type": "code",
      "source": [
        "# #the select clause where i am selecting only the attributes that are given in command\n",
        "#returns the header and rows to the query.\n",
        "\n",
        "def select2(sl,file_name):\n",
        "  path1 = \"/content/\"+file_name\n",
        "  #print(\"SELECT LIST in select ---\",str(sl))\n",
        "  #print(\"IN SELCT -------\")\n",
        "  #display(path1)\n",
        "  #print(\"path is : \",path1)\n",
        "  file1 = open(path1)\n",
        "  \n",
        "  data1 = csv.reader(file1)\n",
        "  header1 = next(data1)\n",
        "  #print(\"I am in select printing header\")\n",
        "  #print(str(header1))\n",
        "  rows = []\n",
        "  for row in data1:\n",
        "    rows.append(row)\n",
        "  #file1.close()\n",
        "\n",
        "  index_list= []#[None]*len(sl)\n",
        "  if(sl[0]==\"*\"):\n",
        "    #index_list = [None]*len(header1)\n",
        "    for i in range(len(header1)):\n",
        "      index_list.append(i)# = i#header1[i]#header1.index(sl[i])\n",
        "    sl = []\n",
        "    for i in range(len(header1)):\n",
        "      sl.append(header1[i])\n",
        "  else:\n",
        "    for i in range(len(sl)):\n",
        "      index_list.append(header1.index(sl[i]))\n",
        "  #print(\"ROWS ____\",rows)\n",
        "  #print(\"IN SELECT INDEX LIST ---\",str(index_list))\n",
        "  with open(\"select_output.csv\",\"w+\") as outfile:\n",
        "      for i in range(len(sl)):\n",
        "          outfile.write(sl[i])\n",
        "          if(i!=len(sl)-1):\n",
        "            outfile.write(\",\") \n",
        "      outfile.write(\"\\n\")\n",
        "      for row_a in rows:\n",
        "        #print(\"row_a in select--\",row_a)\n",
        "        for i in range(len(index_list)):\n",
        "          #print(\"row_a[index_list[i]]---\",row_a[index_list[i]])\n",
        "          outfile.write(row_a[index_list[i]])#rows.append(row)\n",
        "          if(i!=len(index_list)-1):\n",
        "            outfile.write(\",\")\n",
        "          if(i==len(index_list)-1):\n",
        "            outfile.write(\"\\n\")\n",
        "  #pass\n",
        "  file1.close()\n",
        "  header,select_out = remove_dup(\"select_output.csv\")\n",
        "  return header,select_out"
      ],
      "metadata": {
        "id": "E7BZdVxP_ide"
      },
      "execution_count": null,
      "outputs": []
    },
    {
      "cell_type": "code",
      "source": [
        "#to support multiple joins,creating a list for which order joins are in query\n",
        "\n",
        "def join_orders(from_list):\n",
        "  lis = []\n",
        "  for i in range(len(from_list)):\n",
        "    if from_list[i]==\"cartesian_join\":\n",
        "      lis.append(\"cart\")\n",
        "    if from_list[i]==\"natural_join\":\n",
        "      lis.append(\"nat\")\n",
        "  \n",
        "  #print(\"join_rders in function\"+str(lis))\n",
        "  return lis"
      ],
      "metadata": {
        "id": "s2IxtbEGGjwe"
      },
      "execution_count": null,
      "outputs": []
    },
    {
      "cell_type": "code",
      "source": [
        "#from function does joining of tables\n",
        "\n",
        "def from_fun(from_list,natural_join_flag,cartesian_join_flag,joins_order):\n",
        "  if(len(from_list )== 1):\n",
        "      \n",
        "      return from_list[0]\n",
        "    \n",
        "  if(len(from_list )== 2 and len(joins_order)==1):\n",
        "      if(cartesian_join_flag != -1):\n",
        "        cart_out = cartesian_join_fun(from_list[0],from_list[1])\n",
        "        \n",
        "        return cart_out\n",
        "      if(natural_join_flag != -1):\n",
        "        nat_out = natural_join_fun(from_list[0],from_list[1])\n",
        "        \n",
        "        return nat_out\n",
        "  else:#(len(joins_order)>1):\n",
        "    if(joins_order[0]==\"cart\"):\n",
        "      out = cartesian_join_fun(from_list[0],from_list[1])\n",
        "      #print(\"I am here\",from_list[1])\n",
        "    elif(joins_order[0]==\"nat\"):\n",
        "        out = natural_join_fun(from_list[0],from_list[1])\n",
        "        #print(\"I am here\",from_list[1])\n",
        "    joins_order.pop(0) \n",
        "    #print(\"joins_order_updated\",str(joins_order))\n",
        "    for i in range(len(joins_order)):\n",
        "      if(joins_order[i]==\"nat\"):\n",
        "        out = natural_join_fun(out,from_list[i+2])\n",
        "        #print(\"I am here\",from_list[i+2])\n",
        "      elif(joins_order[i]==\"cart\"):\n",
        "        out = cartesian_join_fun(out,from_list[i+2])\n",
        "        #print(\"I am here\",from_list[i+2])\n",
        "     \n",
        "    return out\n",
        "  "
      ],
      "metadata": {
        "id": "EK1AMRncCjMi"
      },
      "execution_count": null,
      "outputs": []
    },
    {
      "cell_type": "code",
      "source": [],
      "metadata": {
        "id": "ZR_vJFnDFNtN"
      },
      "execution_count": null,
      "outputs": []
    },
    {
      "cell_type": "markdown",
      "source": [
        "#Query_main"
      ],
      "metadata": {
        "id": "ifBgakxk0S68"
      }
    },
    {
      "cell_type": "code",
      "source": [
        "# def query2(Q):\n",
        "    \n",
        "#     keywords = [\"natural_join\",\"desc\",\"cartesian_join\"]\n",
        "    \n",
        "#     natural_join = 0\n",
        "#     natural_join_index = 0\n",
        "#     DESC = 0\n",
        "#     DESC_index = 0\n",
        "    \n",
        "#     Q=Q.lower().strip().split()\n",
        "#     #print(Q)\n",
        "#     where_flag = 0\n",
        "#     orderby_flag = 0\n",
        "#     natural_join_flag = 0\n",
        "#     cartesian_join_flag = 0\n",
        "#     atrribute_search_flag = -1\n",
        "#     where_list = []\n",
        "#     orderby_list = []\n",
        "#     where_index = -1\n",
        "\n",
        "#     if(Q[0]!=\"select\"):\n",
        "#         print(\"Expecting a select statement first.Please give correct statement\")\n",
        "#         return \n",
        "    \n",
        "#     #print(\"I am here\")\n",
        "#     try:\n",
        "#         from_index = Q.index(\"from\")\n",
        "#     except ValueError as e:\n",
        "#         print(\"There is no from keyword in your query,couldn't find the file from which data is to be taken\")\n",
        "#         return \n",
        "#     select_list = Q[1:from_index]\n",
        "#     try:\n",
        "#         where_index = Q.index(\"where\")\n",
        "#     except ValueError as e:\n",
        "#         #print(\"No where clause\")\n",
        "#         where_flag = -1\n",
        "#         #exit()\n",
        "#     #print(from_index)\n",
        "#     if where_flag == -1:\n",
        "#         from_list = Q[from_index+1:]\n",
        "#     else:\n",
        "#         from_list = Q[from_index+1:where_index]\n",
        "#     try:\n",
        "#         orderby_index = Q.index(\"orderby\")\n",
        "#     except ValueError as e:\n",
        "#         #print(\"No orderby clause\")\n",
        "#         orderby_flag = -1\n",
        "#     if orderby_flag == -1 and where_index != -1:\n",
        "#         where_list = Q[where_index+1:]\n",
        "#     elif orderby_flag != -1 and where_index != -1:\n",
        "#         where_list = Q[where_index+1:orderby_index]\n",
        "#         orderby_list = Q[orderby_index+1:]\n",
        "    \n",
        "    \n",
        "    \n",
        "#     #opening the files mentioned in from\n",
        "    \n",
        "    \n",
        "#     from_list = remove_items(from_list,\",\")\n",
        "#     select_list = remove_items(select_list,\",\")\n",
        "\n",
        "#     #print(\"unprocessed_from_list\" + str(from_list))\n",
        "#     joins_order = join_orders(from_list)\n",
        "#     #print(\"joins_order\"+ str(joins_order))\n",
        "    \n",
        "#     try:\n",
        "#          natural_join_index = from_list.index(\"natural_join\")\n",
        "#     except ValueError as e:\n",
        "#         #print(\"No natural_join clause\")\n",
        "#         natural_join_flag = -1\n",
        "\n",
        "#     if(natural_join_flag != -1):\n",
        "#       from_list = remove_items(from_list,\"natural_join\")\n",
        "\n",
        "#     try:\n",
        "#         cartesian_join_index = from_list.index(\"cartesian_join\")\n",
        "#     except ValueError as e:\n",
        "#         #print(\"No cartesian_join clause\")\n",
        "#         cartesian_join_flag = -1\n",
        "\n",
        "#     if(cartesian_join_flag!=-1):\n",
        "#       from_list = remove_items(from_list,\"cartesian_join\")\n",
        "    \n",
        "#     no_of_files = len(from_list)\n",
        "#     if((no_of_files)!=(len(joins_order)+1)):\n",
        "#       print(\"no of files entered in from clause are not enough for the joins\")\n",
        "#       return\n",
        "#     from_list_dup = from_list.copy()\n",
        "    \n",
        "#     #print(\"from_list_dup\")\n",
        "#     #print(from_list_dup)\n",
        "\n",
        "#     for i in range(no_of_files):\n",
        "#         from_list[i] = from_list[i]+\".csv\"\n",
        "    \n",
        "#     files_opening = [None]*no_of_files\n",
        "    \n",
        "#     #we can try opening files with the names in from_list\n",
        "#     for i in range(no_of_files):\n",
        "#         try:\n",
        "#             files_opening[i] = open(from_list[i],\"r+\")\n",
        "#         except FileNotFoundError:\n",
        "#             print(\"File \" + str(from_list[i])+ \" not found.  Aborting\")\n",
        "#             return \n",
        "#         except OSError:\n",
        "#             print(f\"OS error occurred trying to open \" + str(from_list[i])+\". Aborting\")\n",
        "#             return \n",
        "#         except Exception as err:\n",
        "#             print(f\"Unexpected error opening \"+str(files_opening[i]))\n",
        "#             return \n",
        "#         files_opening[i].close()\n",
        "#     #need to take care of order_by desc asc here come later\n",
        "\n",
        "#     from_out = from_fun(from_list,natural_join_flag,cartesian_join_flag,joins_order)\n",
        "    \n",
        "#     atrribute_search_flag = search_attributes(select_list,from_out)\n",
        "#     if(atrribute_search_flag == 0):\n",
        "#           print(\"\\nNo such attribute in the table please enter correct attribute\")\n",
        "#     where_out = where_fun(where_list,from_out)\n",
        "    \n",
        "#     head_col,output_file = select(select_list,where_out)\n",
        "\n",
        "#     display_output(head_col,output_file)\n",
        "#     #out = pd.DataFrame(output_file)\n",
        "#     #out.columns = head_col\n",
        "#     return \n",
        "    "
      ],
      "metadata": {
        "id": "KI8ea7sBG48H"
      },
      "execution_count": null,
      "outputs": []
    },
    {
      "cell_type": "markdown",
      "source": [
        "#main_query_working for all inputs"
      ],
      "metadata": {
        "id": "T3E10SKUQzkr"
      }
    },
    {
      "cell_type": "code",
      "source": [
        "def query3(Q):\n",
        "    \n",
        "    keywords = [\"natural_join\",\"desc\",\"cartesian_join\"]\n",
        "    \n",
        "    natural_join = 0\n",
        "    natural_join_index = 0\n",
        "    DESC = 0\n",
        "    DESC_index = 0\n",
        "    \n",
        "    Q=Q.lower().strip().split()\n",
        "    #print(Q)\n",
        "    where_flag = 0\n",
        "    orderby_flag = 0\n",
        "    natural_join_flag = 0\n",
        "    cartesian_join_flag = 0\n",
        "    atrribute_search_flag = -1\n",
        "    where_list = []\n",
        "    orderby_list = []\n",
        "    where_index = -1\n",
        "\n",
        "    if(Q[0]!=\"select\"):\n",
        "        print(\"Expecting a select statement first.Please give correct statement\")\n",
        "        return \n",
        "    \n",
        "    #print(\"I am here\")\n",
        "    try:\n",
        "        from_index = Q.index(\"from\")\n",
        "    except ValueError as e:\n",
        "        print(\"There is no from keyword in your query,couldn't find the file from which data is to be taken\")\n",
        "        return \n",
        "    select_list = Q[1:from_index]\n",
        "    try:\n",
        "        where_index = Q.index(\"where\")\n",
        "    except ValueError as e:\n",
        "        #print(\"No where clause\")\n",
        "        where_flag = -1\n",
        "        #exit()\n",
        "    #print(from_index)\n",
        "    if where_flag == -1:\n",
        "        from_list = Q[from_index+1:]\n",
        "    else:\n",
        "        from_list = Q[from_index+1:where_index]\n",
        "    try:\n",
        "        orderby_index = Q.index(\"orderby\")\n",
        "    except ValueError as e:\n",
        "        #print(\"No orderby clause\")\n",
        "        orderby_flag = -1\n",
        "    if orderby_flag == -1 and where_index != -1:\n",
        "        where_list = Q[where_index+1:]\n",
        "    elif orderby_flag != -1 and where_index != -1:\n",
        "        where_list = Q[where_index+1:orderby_index]\n",
        "        orderby_list = Q[orderby_index+1:]\n",
        "    \n",
        "    \n",
        "    \n",
        "    #opening the files mentioned in from\n",
        "    \n",
        "    \n",
        "    from_list = remove_items(from_list,\",\")\n",
        "    select_list = remove_items(select_list,\",\")\n",
        "\n",
        "    #print(\"unprocessed_from_list\" + str(from_list))\n",
        "    joins_order = join_orders(from_list)\n",
        "    #print(\"joins_order\"+ str(joins_order))\n",
        "    \n",
        "    try:\n",
        "         natural_join_index = from_list.index(\"natural_join\")\n",
        "    except ValueError as e:\n",
        "        #print(\"No natural_join clause\")\n",
        "        natural_join_flag = -1\n",
        "\n",
        "    if(natural_join_flag != -1):\n",
        "      from_list = remove_items(from_list,\"natural_join\")\n",
        "\n",
        "    try:\n",
        "        cartesian_join_index = from_list.index(\"cartesian_join\")\n",
        "    except ValueError as e:\n",
        "        #print(\"No cartesian_join clause\")\n",
        "        cartesian_join_flag = -1\n",
        "\n",
        "    if(cartesian_join_flag!=-1):\n",
        "      from_list = remove_items(from_list,\"cartesian_join\")\n",
        "    \n",
        "    no_of_files = len(from_list)\n",
        "    if((no_of_files)!=(len(joins_order)+1)):\n",
        "      print(\"no of files entered in from clause are not enough for the joins\")\n",
        "      return\n",
        "    from_list_dup = from_list.copy()\n",
        "    \n",
        "    #print(\"from_list_dup\")\n",
        "    #print(from_list_dup)\n",
        "\n",
        "    for i in range(no_of_files):\n",
        "        from_list[i] = from_list[i]+\".csv\"\n",
        "    \n",
        "    files_opening = [None]*no_of_files\n",
        "    \n",
        "    #we can try opening files with the names in from_list\n",
        "    for i in range(no_of_files):\n",
        "        try:\n",
        "            files_opening[i] = open(from_list[i],\"r+\")\n",
        "        except FileNotFoundError:\n",
        "            print(\"File \" + str(from_list[i])+ \" not found.  Aborting\")\n",
        "            return \n",
        "        except OSError:\n",
        "            print(f\"OS error occurred trying to open \" + str(from_list[i])+\". Aborting\")\n",
        "            return \n",
        "        except Exception as err:\n",
        "            print(f\"Unexpected error opening \"+str(files_opening[i]))\n",
        "            return \n",
        "        files_opening[i].close()\n",
        "    #need to take care of order_by desc asc here come later\n",
        "\n",
        "    from_out = from_fun(from_list,natural_join_flag,cartesian_join_flag,joins_order)\n",
        "    \n",
        "    atrribute_search_flag = search_attributes(select_list,from_out)\n",
        "    if(atrribute_search_flag == 0):\n",
        "          print(\"\\nNo such attribute in the table please enter correct attribute\")\n",
        "    where_out = where_fun(where_list,from_out)\n",
        "    if where_out == \"where??\":\n",
        "      return\n",
        "    orderby_out = orderby_fun(orderby_list,where_out)\n",
        "    if orderby_out == \"where??\":\n",
        "      return\n",
        "    head_col,output_file = select2(select_list,orderby_out)\n",
        "\n",
        "    display_output(head_col,output_file)\n",
        "\n",
        "    return \n",
        "    "
      ],
      "metadata": {
        "id": "GuqxLKgG04qj"
      },
      "execution_count": null,
      "outputs": []
    },
    {
      "cell_type": "code",
      "source": [
        "print(\"ex query:\\n\\t\\tSelect * from test , temp\")"
      ],
      "metadata": {
        "colab": {
          "base_uri": "https://localhost:8080/"
        },
        "id": "FDdMK4PaJ0p0",
        "outputId": "b4decf2d-fcb0-4e30-b64a-f5589dec0b4c"
      },
      "execution_count": null,
      "outputs": [
        {
          "output_type": "stream",
          "name": "stdout",
          "text": [
            "ex query:\n",
            "\t\tSelect * from test , temp\n"
          ]
        }
      ]
    },
    {
      "cell_type": "markdown",
      "source": [
        "#testing on queries of all types"
      ],
      "metadata": {
        "id": "HGvnXnoKRC8Q"
      }
    },
    {
      "cell_type": "code",
      "source": [
        "result = query3(\"  select Name , age        from test cartesian_join temp where ajshdfjh  <= hdf orderby jdhf   \")\n",
        "result"
      ],
      "metadata": {
        "colab": {
          "base_uri": "https://localhost:8080/"
        },
        "id": "WZ3TGYmEqWW6",
        "outputId": "7fc03094-9147-4bda-cb7c-3204b919f370"
      },
      "execution_count": null,
      "outputs": [
        {
          "output_type": "stream",
          "name": "stdout",
          "text": [
            "File test.csv not found.  Aborting\n"
          ]
        }
      ]
    },
    {
      "cell_type": "code",
      "source": [
        "result = query3(\"  select Name , age        from test cartesian_join temp where ajshdfjh  <= hdf orderby jdhf   \")\n",
        "result"
      ],
      "metadata": {
        "colab": {
          "base_uri": "https://localhost:8080/"
        },
        "id": "OgnJ03OjMICH",
        "outputId": "24f0adea-f52c-42f4-952d-7e8439f7571c"
      },
      "execution_count": null,
      "outputs": [
        {
          "output_type": "stream",
          "name": "stdout",
          "text": [
            "attribute doesn't exist in the file header Don't expect any result\n"
          ]
        }
      ]
    },
    {
      "cell_type": "code",
      "source": [
        "result = query3(\"  select *         from temp2 cartesian_join temp cartesian_join test where phno  >= 2341 orderby jdhf   \")\n",
        "result"
      ],
      "metadata": {
        "id": "EgpnBrsJueRI",
        "colab": {
          "base_uri": "https://localhost:8080/"
        },
        "outputId": "980767e7-8a94-474c-e512-f17b5de1522e"
      },
      "execution_count": null,
      "outputs": [
        {
          "output_type": "stream",
          "name": "stdout",
          "text": [
            "No such attibute exists in orderby clause thats entered in query\n"
          ]
        }
      ]
    },
    {
      "cell_type": "code",
      "source": [
        "result = query3(\"  select *         from temp2 cartesian_join temp  where phno  >= 2341 orderby phno   \")\n",
        "result"
      ],
      "metadata": {
        "colab": {
          "base_uri": "https://localhost:8080/"
        },
        "id": "-NCw7Qvd9xrG",
        "outputId": "ca82f4ed-a211-44b5-948f-acb221d299e8"
      },
      "execution_count": null,
      "outputs": [
        {
          "output_type": "stream",
          "name": "stdout",
          "text": [
            "\u001b[96mname           \u001b[0m    \u001b[96mregdno         \u001b[0m    \u001b[96mphno           \u001b[0m    \u001b[96me              \u001b[0m    \u001b[96ma              \u001b[0m    \n",
            "nitin              21557              2341               0                  0                  \n",
            "mukesh             21558              2342               0                  0                  \n",
            "veeerendra         21553              3231               0                  0                  \n",
            "suraj              21555              4212               0                  0                  \n",
            "ram                21569              823742             0                  0                  \n"
          ]
        }
      ]
    },
    {
      "cell_type": "code",
      "source": [
        "result = query3(\"  select name , phno         from temp2 cartesian_join temp  where phno  >= 2341 orderby phno   \")\n",
        "result"
      ],
      "metadata": {
        "colab": {
          "base_uri": "https://localhost:8080/"
        },
        "id": "k3PEeEPAPFWq",
        "outputId": "c3dcb5d9-6f1a-4c2f-b69a-bf10d3c978fd"
      },
      "execution_count": null,
      "outputs": [
        {
          "output_type": "stream",
          "name": "stdout",
          "text": [
            "\u001b[96mname           \u001b[0m    \u001b[96mphno           \u001b[0m    \n",
            "nitin              2341               \n",
            "mukesh             2342               \n",
            "veeerendra         3231               \n",
            "suraj              4212               \n",
            "ram                823742             \n"
          ]
        }
      ]
    },
    {
      "cell_type": "code",
      "source": [
        "#query with multiple joins Result in one record i.e ram\n",
        "result = query3(\"  select *         from temp2 cartesian_join temp cartesian_join test where phno  >= 2341 orderby phno   \")\n",
        "result"
      ],
      "metadata": {
        "colab": {
          "base_uri": "https://localhost:8080/"
        },
        "id": "RVt7qYcnPRC8",
        "outputId": "571570b1-0fc7-482f-e235-8f6cb54f753f"
      },
      "execution_count": null,
      "outputs": [
        {
          "output_type": "stream",
          "name": "stdout",
          "text": [
            "\u001b[96mname           \u001b[0m    \u001b[96mregdno         \u001b[0m    \u001b[96mphno           \u001b[0m    \u001b[96me              \u001b[0m    \u001b[96ma              \u001b[0m    \u001b[96mage            \u001b[0m    \u001b[96mcity           \u001b[0m    \n",
            "ram                21569              823742             0                  0                  30                 bangalore          \n"
          ]
        }
      ]
    },
    {
      "cell_type": "code",
      "source": [
        "result = query3(\"select * from temp\")\n",
        "result"
      ],
      "metadata": {
        "colab": {
          "base_uri": "https://localhost:8080/"
        },
        "id": "o2aNXyTI6AD-",
        "outputId": "6b7c3a85-76fe-4f42-8429-735aee51024c"
      },
      "execution_count": null,
      "outputs": [
        {
          "output_type": "stream",
          "name": "stdout",
          "text": [
            "\u001b[96mname           \u001b[0m     \u001b[96mregdno         \u001b[0m     \u001b[96mphno           \u001b[0m     \n",
            "naveen               21551                1422                 \n",
            "nandan               21552                1231                 \n",
            "veeerendra           21553                3231                 \n",
            "suvam                21554                1234                 \n",
            "suraj                21555                4212                 \n",
            "shubank              21556                1232                 \n",
            "nitin                21557                2341                 \n",
            "mukesh               21558                2342                 \n",
            "ram                  21569                823742               \n"
          ]
        }
      ]
    },
    {
      "cell_type": "code",
      "source": [
        "query3(\"select from\")"
      ],
      "metadata": {
        "colab": {
          "base_uri": "https://localhost:8080/"
        },
        "id": "M3kSP111RKPe",
        "outputId": "c300d6ee-63da-4f73-9d70-5145dc9831be"
      },
      "execution_count": null,
      "outputs": [
        {
          "output_type": "stream",
          "name": "stdout",
          "text": [
            "no of files entered in from clause are not enough for the joins\n"
          ]
        }
      ]
    },
    {
      "cell_type": "code",
      "source": [
        "query3(\"* from test where name = ram\")"
      ],
      "metadata": {
        "colab": {
          "base_uri": "https://localhost:8080/"
        },
        "id": "_xnkz-v7RQo8",
        "outputId": "99ae101e-521e-47c9-f23b-e55dcc079185"
      },
      "execution_count": null,
      "outputs": [
        {
          "output_type": "stream",
          "name": "stdout",
          "text": [
            "Expecting a select statement first.Please give correct statement\n"
          ]
        }
      ]
    },
    {
      "cell_type": "code",
      "source": [
        "query3(\"select * from test where name = ram\")"
      ],
      "metadata": {
        "colab": {
          "base_uri": "https://localhost:8080/"
        },
        "id": "O81lH9T6RnhA",
        "outputId": "daf1de20-e7ae-4b28-b7bc-cae82ba6e464"
      },
      "execution_count": null,
      "outputs": [
        {
          "output_type": "stream",
          "name": "stdout",
          "text": [
            "\u001b[96mname           \u001b[0m    \u001b[96mage            \u001b[0m    \u001b[96mcity           \u001b[0m    \n",
            "ram                30                 bangalore          \n"
          ]
        }
      ]
    },
    {
      "cell_type": "code",
      "source": [
        "query3(\"select * from test cartesian_join temp2 where name = ram\")"
      ],
      "metadata": {
        "colab": {
          "base_uri": "https://localhost:8080/"
        },
        "id": "963gA-hdR747",
        "outputId": "731f61da-ec1e-4c9e-fa54-a6937112ba53"
      },
      "execution_count": null,
      "outputs": [
        {
          "output_type": "stream",
          "name": "stdout",
          "text": [
            "\u001b[96mname           \u001b[0m    \u001b[96mage            \u001b[0m    \u001b[96mcity           \u001b[0m    \u001b[96mregdno         \u001b[0m    \u001b[96mphno           \u001b[0m    \u001b[96me              \u001b[0m    \n",
            "ram                30                 bangalore          21569              823742             0                  \n"
          ]
        }
      ]
    },
    {
      "cell_type": "code",
      "source": [
        "query3(\"select * from test cartesian_join test3  \")"
      ],
      "metadata": {
        "colab": {
          "base_uri": "https://localhost:8080/"
        },
        "id": "tA0Siwq_SLag",
        "outputId": "b7398918-bd07-4463-a621-3b001e85130a"
      },
      "execution_count": null,
      "outputs": [
        {
          "output_type": "stream",
          "name": "stdout",
          "text": [
            "\u001b[96mname           \u001b[0m    \u001b[96mage            \u001b[0m    \u001b[96mcity           \u001b[0m    \u001b[96maged           \u001b[0m    \u001b[96mcollage        \u001b[0m    \n",
            "ram                30                 bangalore          20                 sssihl             \n",
            "ram                30                 bangalore          30                 sssihl             \n",
            "ram                30                 bangalore          12                 igbms              \n",
            "kapil              32                 hyderabad          20                 sssihl             \n",
            "kapil              32                 hyderabad          30                 sssihl             \n",
            "kapil              32                 hyderabad          12                 igbms              \n",
            "sathish            16                 chennai            20                 sssihl             \n",
            "sathish            16                 chennai            30                 sssihl             \n",
            "sathish            16                 chennai            12                 igbms              \n",
            "ravi               39                 bangalore          20                 sssihl             \n",
            "ravi               39                 bangalore          30                 sssihl             \n",
            "ravi               39                 bangalore          12                 igbms              \n",
            "kavita             12                 hyderabad          20                 sssihl             \n",
            "kavita             12                 hyderabad          30                 sssihl             \n",
            "kavita             12                 hyderabad          12                 igbms              \n",
            "kavya              19                 mysore             20                 sssihl             \n",
            "kavya              19                 mysore             30                 sssihl             \n",
            "kavya              19                 mysore             12                 igbms              \n"
          ]
        }
      ]
    },
    {
      "cell_type": "code",
      "source": [
        "display('/content/temp2.csvnat_jointemp.csv')"
      ],
      "metadata": {
        "colab": {
          "base_uri": "https://localhost:8080/"
        },
        "id": "75ed1Jwxu7gS",
        "outputId": "edcbb938-5c2b-4646-ae82-9f1e1a1d74d0"
      },
      "execution_count": null,
      "outputs": [
        {
          "output_type": "stream",
          "name": "stdout",
          "text": [
            "\u001b[96mname           \u001b[0m     \u001b[96mregdno         \u001b[0m     \u001b[96mphno           \u001b[0m     \u001b[96me              \u001b[0m     \u001b[96ma              \u001b[0m     \n",
            "naveen               21551                1422                 0                    0                    \n",
            "nandan               21552                1231                 0                    0                    \n",
            "veeerendra           21553                3231                 0                    0                    \n",
            "suvam                21554                1234                 0                    0                    \n",
            "suraj                21555                4212                 0                    0                    \n",
            "shubank              21556                1232                 0                    0                    \n",
            "nitin                21557                2341                 0                    0                    \n",
            "mukesh               21558                2342                 0                    0                    \n",
            "ram                  21569                823742               0                    0                    \n"
          ]
        }
      ]
    },
    {
      "cell_type": "code",
      "source": [
        "#in select * or name of the attributes currently only small letters need to be entered even for header\n",
        "#follow up can use list((map(lambda x: x.lower(), s))) to make header as what i needed\n",
        "\n",
        "#from have to enter filenames (need not give .csv extension) and needed natural_join or cartisian_join as single word not as two\n",
        "#from can handle any number of joins in any order\n",
        "\n",
        "#where can handle one statement with =,!=,<,>,>=,<= operations on attributes somemore using AND ,OR yet to be done.\n",
        "\n",
        "#orderby in progress\n",
        "\n",
        "#dealing with materialized views.So writing down all the records as of when we know that they are part of it.\n",
        "\n",
        "#have display function,which takes file.csv as input and reads from the file and displays with header in cyan colour\n",
        "#and remaining rows as adjusted to 15 characters each word(appended with spaces).\n",
        "\n",
        "#can use a class with a little change in the code,here i am dealing with file names\n",
        "#and the opening and reading the header and rows \n",
        "#instead i can have a class with class variables as file name,header and rows.\n",
        "#if its done the opening of file reading will be redundant \n",
        "#but this opening and closing happening in every function if i implement this in from_fun,i will be aving the file names\n",
        "#that i need to open.So once and for all i can read the header and rows in that and done.\n"
      ],
      "metadata": {
        "id": "q7c_uquvnH5z"
      },
      "execution_count": null,
      "outputs": []
    }
  ]
}